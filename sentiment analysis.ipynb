{
 "cells": [
  {
   "cell_type": "code",
   "execution_count": 2,
   "id": "0d27e0e8",
   "metadata": {
    "scrolled": true
   },
   "outputs": [
    {
     "name": "stderr",
     "output_type": "stream",
     "text": [
      "[nltk_data] Downloading package stopwords to\n",
      "[nltk_data]     C:\\Users\\aniru\\AppData\\Roaming\\nltk_data...\n",
      "[nltk_data]   Package stopwords is already up-to-date!\n"
     ]
    },
    {
     "name": "stdout",
     "output_type": "stream",
     "text": [
      "0.8454416116290381\n",
      "[[95926 14055]\n",
      " [19948 90072]]\n"
     ]
    }
   ],
   "source": [
    "import pandas as pd\n",
    "df = pd.read_fwf(r'C:\\Users\\aniru\\Downloads\\Compressed\\test.txt',header=None,index=False,names=['Rating', 'Review'])\n",
    "df['Rating'] = df['Rating'].replace(['_label_1'],'Negative')\n",
    "df['Rating'] = df['Rating'].replace(['_label_2'],'Positive')\n",
    "import nltk\n",
    "nltk.download('stopwords')\n",
    "stopwords_list = nltk.corpus.stopwords.words('english')\n",
    "stopwords_list.remove('no')\n",
    "stopwords_list.remove('not')\n",
    "import re\n",
    "import string\n",
    "#remove special characters\n",
    "def remove_sp(text):\n",
    "    text = text.lower()\n",
    "    text = re.sub('\\[.*?\\]',\"\",text)\n",
    "    text = re.sub('[%s]' %re.escape(string.punctuation), \"\", text)\n",
    "    text = re.sub('\\w*\\d\\w',\"\",text)\n",
    "    text = re.sub('[''\"\"_]', \"\", text)\n",
    "    text = re.sub('\\n',\"\", text)\n",
    "    return text\n",
    "\n",
    "cleaned = lambda x:remove_sp(x)\n",
    "df['Review'] = df['Review'].apply(cleaned)\n",
    "from nltk.tokenize.toktok import ToktokTokenizer\n",
    "tokenizer = ToktokTokenizer()\n",
    "\n",
    "#remove stopwords\n",
    "def remove_stopwords(text):\n",
    "  tokens = tokenizer.tokenize(text)\n",
    "  tokens = [token.strip() for token in tokens]\n",
    "  filtered_tokens = [token for token in tokens if token not in stopwords_list]\n",
    "  filtered_text = ' '.join(filtered_tokens)\n",
    "  return filtered_text\n",
    "\n",
    "cleaned2 = lambda x:remove_stopwords(x)\n",
    "df['Review'] = df['Review'].apply(cleaned2)\n",
    "x = df['Review'].values\n",
    "y = df['Rating'].values\n",
    "from sklearn.model_selection import train_test_split\n",
    "x_train, x_test, y_train, y_test = train_test_split(x,y,test_size = 0.55,random_state = 4)\n",
    "from sklearn.feature_extraction.text import TfidfVectorizer\n",
    "from sklearn.naive_bayes import MultinomialNB\n",
    "from sklearn.pipeline import make_pipeline\n",
    "\n",
    "clf = make_pipeline(TfidfVectorizer(), MultinomialNB())\n",
    "clf.fit(x_train, y_train)\n",
    "predicted = clf.predict(x_test)\n",
    "from  sklearn.metrics  import accuracy_score,confusion_matrix\n",
    "predicted = clf.predict(x_test)\n",
    "print(accuracy_score(y_test,predicted))\n",
    "print(confusion_matrix(y_test,predicted))\n",
    "import pickle\n",
    "pickle.dump(clf,open('SentimentAnalysis.p','wb'))\n",
    "model = pickle.load(open('SentimentAnalysis.p','rb'))"
   ]
  },
  {
   "cell_type": "code",
   "execution_count": 3,
   "id": "60c1feff",
   "metadata": {},
   "outputs": [
    {
     "name": "stdout",
     "output_type": "stream",
     "text": [
      "Writing app.py\n"
     ]
    }
   ],
   "source": [
    "%%writefile app.py\n",
    "import streamlit as st\n",
    "from PIL import Image\n",
    "import nltk\n",
    "import re\n",
    "import string\n",
    "import pickle\n",
    "from nltk.tokenize.toktok import ToktokTokenizer\n",
    "from sklearn.feature_extraction.text import TfidfTransformer\n",
    "from sklearn.feature_extraction.text import TfidfVectorizer\n",
    "from sklearn.naive_bayes import MultinomialNB\n",
    "from nltk.tokenize.toktok import ToktokTokenizer\n",
    "import nltk\n",
    "model = pickle.load(open('SentimentAnalysis.p','rb'))\n",
    "st.title(\"Sentiment Analysis\")\n",
    "st.subheader(\"Enter Text to analyise: \")\n",
    "text = st.text_input(\" \")\n",
    "text = [text]\n",
    "y_out = model.predict(text)\n",
    "\n",
    "if st.button(\"Predict\"):\n",
    "        \n",
    "\n",
    "        if (y_out == \"Positive\"):\n",
    "            image = Image.open(\"happy.jpeg\")\n",
    "            st.image(image,width = 250)\n",
    "            st.header(\"WOW!! That's Positive review\")\n",
    "        else:\n",
    "            image = Image.open(\"sad.jpeg\")\n",
    "            st.image(image,width = 250)\n",
    "            st.header(\"That's Negative review\")"
   ]
  },
  {
   "cell_type": "code",
   "execution_count": null,
   "id": "c014aa39",
   "metadata": {},
   "outputs": [],
   "source": []
  }
 ],
 "metadata": {
  "kernelspec": {
   "display_name": "Python 3",
   "language": "python",
   "name": "python3"
  },
  "language_info": {
   "codemirror_mode": {
    "name": "ipython",
    "version": 3
   },
   "file_extension": ".py",
   "mimetype": "text/x-python",
   "name": "python",
   "nbconvert_exporter": "python",
   "pygments_lexer": "ipython3",
   "version": "3.8.8"
  }
 },
 "nbformat": 4,
 "nbformat_minor": 5
}
